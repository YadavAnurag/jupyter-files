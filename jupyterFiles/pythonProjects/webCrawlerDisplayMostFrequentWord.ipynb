{
 "cells": [
  {
   "cell_type": "code",
   "execution_count": 7,
   "metadata": {},
   "outputs": [
    {
     "name": "stdout",
     "output_type": "stream",
     "text": [
      "[('python', 10), ('and', 5), ('programming', 4), ('language', 3), ('in', 3), ('is', 2), ('a', 2), ('it', 2), ('was', 2), ('by', 2)]\n"
     ]
    }
   ],
   "source": [
    "import requests\n",
    "from bs4 import BeautifulSoup\n",
    "import operator\n",
    "from collections import Counter\n",
    "\n",
    "\n",
    "\n",
    "# call web page and get words from that page\n",
    "def getWordList(url):\n",
    "    \n",
    "    wordList = []\n",
    "    webPage = requests.get(url).text\n",
    "    \n",
    "    # parse webPage using bs4 for data\n",
    "    soup = BeautifulSoup(webPage, 'html.parser')\n",
    "    \n",
    "    # extract the text from the <div> tags\n",
    "    for eachText in soup.findAll('div', {'class':'entry-content'}):\n",
    "        content = eachText.text\n",
    "        \n",
    "        # breaking the sentence into words\n",
    "        words = content.lower().split()\n",
    "        wordList = list(words)\n",
    "        return wordList\n",
    "\n",
    "    \n",
    "    \n",
    "# remove unwanted symbols\n",
    "def cleanWordList(wordList):\n",
    "    \n",
    "    cleanList = []\n",
    "    symbols = '!@#$%^&*()_-+={[}]|\\;:\"<>?/., '\n",
    "    \n",
    "    for word in wordList:\n",
    "        for i in range(0, len(symbols)):\n",
    "            word = word.replace(symbols[i], '')\n",
    "            \n",
    "        if len(word)>0:\n",
    "            cleanList.append(word)\n",
    "    \n",
    "    return cleanList\n",
    "\n",
    "\n",
    "# pass number of word to return that are occurred most frequent\n",
    "def countFrequency(cleanList, n):\n",
    "    \n",
    "    wordCount = {}\n",
    "    \n",
    "    for word in cleanList:\n",
    "        if word in wordCount:\n",
    "            wordCount[word] += 1\n",
    "        else:\n",
    "            wordCount[word] = 1\n",
    "            \n",
    "    c = Counter(wordCount)\n",
    "    \n",
    "    return c.most_common(n)\n",
    "\n",
    "\n",
    "   \n",
    "    \n",
    "\n",
    "    \n",
    "# input    \n",
    "pageUrl = 'https://www.geeksforgeeks.org/python-programming-language/'\n",
    "\n",
    "wordList = getWordList(pageUrl)\n",
    "cleanedList = cleanWordList(wordList)\n",
    "frequency = countFrequency(cleanedList, 10)\n",
    "\n",
    "print(frequency)\n",
    "\n",
    "    \n",
    "    \n",
    "        \n"
   ]
  },
  {
   "cell_type": "code",
   "execution_count": null,
   "metadata": {},
   "outputs": [],
   "source": []
  }
 ],
 "metadata": {
  "kernelspec": {
   "display_name": "Python 3",
   "language": "python",
   "name": "python3"
  },
  "language_info": {
   "codemirror_mode": {
    "name": "ipython",
    "version": 3
   },
   "file_extension": ".py",
   "mimetype": "text/x-python",
   "name": "python",
   "nbconvert_exporter": "python",
   "pygments_lexer": "ipython3",
   "version": "3.6.5"
  }
 },
 "nbformat": 4,
 "nbformat_minor": 2
}
